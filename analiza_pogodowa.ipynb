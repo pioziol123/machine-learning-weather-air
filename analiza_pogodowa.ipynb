{
 "cells": [
  {
   "cell_type": "code",
   "execution_count": 34,
   "metadata": {},
   "outputs": [],
   "source": [
    "import numpy as np\n",
    "import pandas as pd\n",
    "import datetime\n",
    "import os\n",
    "import matplotlib.pyplot as plt\n",
    "import dateutil.parser as dp\n",
    "from sklearn.linear_model import LinearRegression\n",
    "from sklearn.metrics import mean_squared_error, r2_score\n",
    "from sklearn.model_selection import train_test_split\n",
    "import seaborn as sns"
   ]
  },
  {
   "cell_type": "markdown",
   "metadata": {},
   "source": [
    "# Pobieranie i zapisywanie danych"
   ]
  },
  {
   "cell_type": "code",
   "execution_count": 20,
   "metadata": {
    "scrolled": true
   },
   "outputs": [],
   "source": [
    "pogoda = pd.read_html('https://weather.com/pl-PL/pogoda/dzisiaj/l/210036ee3963854e507c1fdb804560b821aa8c0a25661de14efccf0c87f7f8c0')[0]\n",
    "pogoda = pogoda.T.rename(columns=pogoda.T.iloc[0]).iloc[1:]\n",
    "pogoda['Data'] = datetime.datetime.date(datetime.datetime.now()).isoformat()\n",
    "if os.path.isfile('pogoda.csv'):\n",
    "    pogoda = pd.concat([pd.read_csv('pogoda.csv', index_col=0), pogoda], sort=False).reset_index().iloc[:, 1:]\n",
    "pogoda.to_csv('pogoda.csv')\n"
   ]
  },
  {
   "cell_type": "code",
   "execution_count": 11,
   "metadata": {},
   "outputs": [],
   "source": [
    "powietrze = pd.read_html(\"https://aqicn.org/city/poznan/pl/\")[5]\n",
    "powietrze.iloc[0,1] = datetime.datetime.date(datetime.datetime.now()).isoformat()\n",
    "powietrze.rename(index=powietrze[0], columns=powietrze.iloc[0], inplace=True)\n",
    "powietrze = powietrze.iloc[1:6, [1]].T.reset_index().rename(columns={'index': 'Data'})\n",
    "if os.path.isfile('powietrze.csv'):\n",
    "    powietrze = pd.concat([pd.read_csv('powietrze.csv', index_col=0), powietrze], sort=False).reset_index().iloc[:, 1:]\n",
    "powietrze.to_csv('powietrze.csv')\n"
   ]
  },
  {
   "cell_type": "markdown",
   "metadata": {},
   "source": [
    "# Obrabianie danych"
   ]
  },
  {
   "cell_type": "code",
   "execution_count": 10,
   "metadata": {},
   "outputs": [
    {
     "data": {
      "text/html": [
       "<div>\n",
       "<style scoped>\n",
       "    .dataframe tbody tr th:only-of-type {\n",
       "        vertical-align: middle;\n",
       "    }\n",
       "\n",
       "    .dataframe tbody tr th {\n",
       "        vertical-align: top;\n",
       "    }\n",
       "\n",
       "    .dataframe thead th {\n",
       "        text-align: right;\n",
       "    }\n",
       "</style>\n",
       "<table border=\"1\" class=\"dataframe\">\n",
       "  <thead>\n",
       "    <tr style=\"text-align: right;\">\n",
       "      <th></th>\n",
       "      <th>PM2.5 AQI</th>\n",
       "      <th>Ciśnienie</th>\n",
       "      <th>Punkt rosy</th>\n",
       "      <th>Wiatr</th>\n",
       "      <th>Widoczność</th>\n",
       "      <th>Wilgotność</th>\n",
       "    </tr>\n",
       "  </thead>\n",
       "  <tbody>\n",
       "    <tr>\n",
       "      <th>0</th>\n",
       "      <td>86.0</td>\n",
       "      <td>1010.8</td>\n",
       "      <td>0.0</td>\n",
       "      <td>27.0</td>\n",
       "      <td>16.1</td>\n",
       "      <td>83.0</td>\n",
       "    </tr>\n",
       "    <tr>\n",
       "      <th>1</th>\n",
       "      <td>86.0</td>\n",
       "      <td>1034.2</td>\n",
       "      <td>4.0</td>\n",
       "      <td>8.0</td>\n",
       "      <td>9.7</td>\n",
       "      <td>86.0</td>\n",
       "    </tr>\n",
       "    <tr>\n",
       "      <th>2</th>\n",
       "      <td>108.0</td>\n",
       "      <td>1031.5</td>\n",
       "      <td>1.0</td>\n",
       "      <td>6.0</td>\n",
       "      <td>6.4</td>\n",
       "      <td>94.0</td>\n",
       "    </tr>\n",
       "    <tr>\n",
       "      <th>3</th>\n",
       "      <td>154.0</td>\n",
       "      <td>1027.4</td>\n",
       "      <td>1.0</td>\n",
       "      <td>8.0</td>\n",
       "      <td>8.1</td>\n",
       "      <td>70.0</td>\n",
       "    </tr>\n",
       "  </tbody>\n",
       "</table>\n",
       "</div>"
      ],
      "text/plain": [
       "   PM2.5 AQI  Ciśnienie  Punkt rosy  Wiatr  Widoczność  Wilgotność\n",
       "0       86.0     1010.8         0.0   27.0        16.1        83.0\n",
       "1       86.0     1034.2         4.0    8.0         9.7        86.0\n",
       "2      108.0     1031.5         1.0    6.0         6.4        94.0\n",
       "3      154.0     1027.4         1.0    8.0         8.1        70.0"
      ]
     },
     "execution_count": 10,
     "metadata": {},
     "output_type": "execute_result"
    }
   ],
   "source": [
    "pogoda = pd.read_csv('pogoda.csv', index_col=0)\n",
    "pogoda.Wiatr = pogoda.Wiatr.str[-7:-4]\n",
    "pogoda = pogoda.applymap(lambda x: x.replace(\" \", \"\"))\n",
    "pogoda = pogoda.applymap(lambda x: x.replace(chr(160), \"\"))\n",
    "pogoda = pogoda.applymap(lambda x: x.replace(\",\", \".\"))\n",
    "pogoda.Ciśnienie = pogoda.Ciśnienie.str[0:-4]\n",
    "pogoda['Punkt rosy'] = pogoda['Punkt rosy'].str[0:-1]\n",
    "pogoda.Wilgotność = pogoda.Wilgotność.str[0:-1]\n",
    "pogoda.Widoczność = pogoda.Widoczność.str[0:-2]\n",
    "powietrze = pd.read_csv('powietrze.csv', index_col=0)\n",
    "dane = powietrze.loc[:, ['Data', 'PM2.5 AQI']].merge(pogoda).iloc[:, 1:].astype('float')\n"
   ]
  },
  {
   "cell_type": "markdown",
   "metadata": {},
   "source": [
    "# Ocena danych"
   ]
  },
  {
   "cell_type": "code",
   "execution_count": 9,
   "metadata": {
    "scrolled": false
   },
   "outputs": [
    {
     "data": {
      "text/plain": [
       "<matplotlib.axes._subplots.AxesSubplot at 0x7f0e799e8e10>"
      ]
     },
     "execution_count": 9,
     "metadata": {},
     "output_type": "execute_result"
    },
    {
     "data": {
      "image/png": "[encoded data removed]",
      "text/plain": [
       "<Figure size 432x288 with 2 Axes>"
      ]
     },
     "metadata": {},
     "output_type": "display_data"
    }
   ],
   "source": [
    "sns.heatmap(data=dane.corr(), annot=True)"
   ]
  },
  {
   "cell_type": "code",
   "execution_count": 27,
   "metadata": {},
   "outputs": [
    {
     "data": {
      "image/png": "[encoded data removed]",
      "text/plain": [
       "<Figure size 432x288 with 2 Axes>"
      ]
     },
     "metadata": {},
     "output_type": "display_data"
    }
   ],
   "source": [
    "parametry = dane[[\"Wilgotność\", \"Wiatr\"]]\n",
    "wartosci = dane['PM2.5 AQI']\n",
    "for i, col in enumerate(parametry):\n",
    "    plt.subplot(2, len(parametry) , i+1)\n",
    "    plt.scatter(parametry[col], wartosci, marker='o')\n",
    "    plt.title(col)\n",
    "    plt.xlabel(col)\n",
    "    plt.xlabel('PM2.5 AQI')"
   ]
  },
  {
   "cell_type": "markdown",
   "metadata": {},
   "source": [
    "# Trenowanie modelu"
   ]
  },
  {
   "cell_type": "code",
   "execution_count": 67,
   "metadata": {},
   "outputs": [
    {
     "data": {
      "text/plain": [
       "LinearRegression(copy_X=True, fit_intercept=True, n_jobs=None,\n",
       "         normalize=False)"
      ]
     },
     "execution_count": 67,
     "metadata": {},
     "output_type": "execute_result"
    }
   ],
   "source": [
    "model = LinearRegression()\n",
    "pTrening, pTest, wTrening, wTest = train_test_split(parametry, wartosci, test_size=0.2, random_state=5)\n",
    "model.fit(pTrening,wTrening)\n"
   ]
  },
  {
   "cell_type": "markdown",
   "metadata": {},
   "source": [
    "# Ocena modelu"
   ]
  },
  {
   "cell_type": "code",
   "execution_count": 62,
   "metadata": {},
   "outputs": [
    {
     "name": "stdout",
     "output_type": "stream",
     "text": [
      "Rmse: 519.25\n",
      "R2: 0.\n",
      "Współczynnik: [ -4.25 -28.  ]\n",
      "Intercept: 675.5\n"
     ]
    }
   ],
   "source": [
    "przewidywania = model.predict(pTest)\n",
    "print(\"Rmse: \" + np.array2string(np.sqrt(mean_squared_error(wTest, przewidywania))))\n",
    "print(\"R2: \" + np.array2string(r2_score(wTest, przewidywania)))\n",
    "print(\"Współczynnik: \" + np.array2string(model.coef_))\n",
    "print(\"Intercept: \" + np.array2string(model.intercept_))"
   ]
  }
 ],
 "metadata": {
  "kernelspec": {
   "display_name": "Python 3",
   "language": "python",
   "name": "python3"
  },
  "language_info": {
   "codemirror_mode": {
    "name": "ipython",
    "version": 3
   },
   "file_extension": ".py",
   "mimetype": "text/x-python",
   "name": "python",
   "nbconvert_exporter": "python",
   "pygments_lexer": "ipython3",
   "version": "3.6.7"
  }
 },
 "nbformat": 4,
 "nbformat_minor": 2
}
